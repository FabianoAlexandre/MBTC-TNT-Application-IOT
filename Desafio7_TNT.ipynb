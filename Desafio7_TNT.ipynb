{
  "nbformat": 4,
  "nbformat_minor": 0,
  "metadata": {
    "kernelspec": {
      "display_name": "Python 3.6",
      "language": "python",
      "name": "python3"
    },
    "language_info": {
      "codemirror_mode": {
        "name": "ipython",
        "version": 3
      },
      "file_extension": ".py",
      "mimetype": "text/x-python",
      "name": "python",
      "nbconvert_exporter": "python",
      "pygments_lexer": "ipython3",
      "version": "3.6.9"
    },
    "colab": {
      "name": "Desafio7-TNT.ipynb",
      "provenance": [],
      "include_colab_link": true
    }
  },
  "cells": [
    {
      "cell_type": "markdown",
      "metadata": {
        "id": "view-in-github",
        "colab_type": "text"
      },
      "source": [
        "<a href=\"https://colab.research.google.com/github/FabianoAlexandre/MBTC-TNT-Application-IOT/blob/master/Desafio7_TNT.ipynb\" target=\"_parent\"><img src=\"https://colab.research.google.com/assets/colab-badge.svg\" alt=\"Open In Colab\"/></a>"
      ]
    },
    {
      "cell_type": "markdown",
      "metadata": {
        "collapsed": true,
        "id": "roB4fbh7FH89",
        "colab_type": "text"
      },
      "source": [
        "# MARATONA BEHIND THE CODE 2020\n",
        "\n",
        "## DESAFIO 7 - TNT"
      ]
    },
    {
      "cell_type": "markdown",
      "metadata": {
        "id": "ai3q4XnOFH8-",
        "colab_type": "text"
      },
      "source": [
        "<hr>"
      ]
    },
    {
      "cell_type": "markdown",
      "metadata": {
        "id": "SRvbf4FgFH8_",
        "colab_type": "text"
      },
      "source": [
        "## Installing Libs"
      ]
    },
    {
      "cell_type": "code",
      "metadata": {
        "id": "IjGGjKxwFH9A",
        "colab_type": "code",
        "colab": {
          "base_uri": "https://localhost:8080/",
          "height": 122
        },
        "outputId": "a8044eb7-dc0d-4aff-9b8e-2770eb7792f4"
      },
      "source": [
        "!pip install scikit-learn --upgrade"
      ],
      "execution_count": 81,
      "outputs": [
        {
          "output_type": "stream",
          "text": [
            "Requirement already up-to-date: scikit-learn in /usr/local/lib/python3.6/dist-packages (0.23.2)\n",
            "Requirement already satisfied, skipping upgrade: scipy>=0.19.1 in /usr/local/lib/python3.6/dist-packages (from scikit-learn) (1.4.1)\n",
            "Requirement already satisfied, skipping upgrade: numpy>=1.13.3 in /usr/local/lib/python3.6/dist-packages (from scikit-learn) (1.18.5)\n",
            "Requirement already satisfied, skipping upgrade: threadpoolctl>=2.0.0 in /usr/local/lib/python3.6/dist-packages (from scikit-learn) (2.1.0)\n",
            "Requirement already satisfied, skipping upgrade: joblib>=0.11 in /usr/local/lib/python3.6/dist-packages (from scikit-learn) (0.16.0)\n"
          ],
          "name": "stdout"
        }
      ]
    },
    {
      "cell_type": "code",
      "metadata": {
        "id": "UurE8sQaFH9F",
        "colab_type": "code",
        "colab": {
          "base_uri": "https://localhost:8080/",
          "height": 88
        },
        "outputId": "65a7d74b-cf2b-41d1-bf7c-6b0231102004"
      },
      "source": [
        "!pip install xgboost --upgrade"
      ],
      "execution_count": 82,
      "outputs": [
        {
          "output_type": "stream",
          "text": [
            "Requirement already up-to-date: xgboost in /usr/local/lib/python3.6/dist-packages (1.2.0)\n",
            "Requirement already satisfied, skipping upgrade: numpy in /usr/local/lib/python3.6/dist-packages (from xgboost) (1.18.5)\n",
            "Requirement already satisfied, skipping upgrade: scipy in /usr/local/lib/python3.6/dist-packages (from xgboost) (1.4.1)\n"
          ],
          "name": "stdout"
        }
      ]
    },
    {
      "cell_type": "code",
      "metadata": {
        "id": "1aHe9kAMFH9K",
        "colab_type": "code",
        "colab": {
          "base_uri": "https://localhost:8080/",
          "height": 156
        },
        "outputId": "78c54602-d14c-4ae7-95f6-b5a69341f943"
      },
      "source": [
        "!pip install imblearn --upgrade"
      ],
      "execution_count": 83,
      "outputs": [
        {
          "output_type": "stream",
          "text": [
            "Requirement already up-to-date: imblearn in /usr/local/lib/python3.6/dist-packages (0.0)\n",
            "Requirement already satisfied, skipping upgrade: imbalanced-learn in /usr/local/lib/python3.6/dist-packages (from imblearn) (0.4.3)\n",
            "Requirement already satisfied, skipping upgrade: scipy>=0.13.3 in /usr/local/lib/python3.6/dist-packages (from imbalanced-learn->imblearn) (1.4.1)\n",
            "Requirement already satisfied, skipping upgrade: scikit-learn>=0.20 in /usr/local/lib/python3.6/dist-packages (from imbalanced-learn->imblearn) (0.23.2)\n",
            "Requirement already satisfied, skipping upgrade: numpy>=1.8.2 in /usr/local/lib/python3.6/dist-packages (from imbalanced-learn->imblearn) (1.18.5)\n",
            "Requirement already satisfied, skipping upgrade: joblib>=0.11 in /usr/local/lib/python3.6/dist-packages (from scikit-learn>=0.20->imbalanced-learn->imblearn) (0.16.0)\n",
            "Requirement already satisfied, skipping upgrade: threadpoolctl>=2.0.0 in /usr/local/lib/python3.6/dist-packages (from scikit-learn>=0.20->imbalanced-learn->imblearn) (2.1.0)\n"
          ],
          "name": "stdout"
        }
      ]
    },
    {
      "cell_type": "code",
      "metadata": {
        "id": "bZ1rFMJqFn-g",
        "colab_type": "code",
        "colab": {
          "base_uri": "https://localhost:8080/",
          "height": 139
        },
        "outputId": "a87a3f30-69b8-4c39-c96d-16d8c581e70b"
      },
      "source": [
        "!pip install Cloudant"
      ],
      "execution_count": 84,
      "outputs": [
        {
          "output_type": "stream",
          "text": [
            "Requirement already satisfied: Cloudant in /usr/local/lib/python3.6/dist-packages (2.14.0)\n",
            "Requirement already satisfied: requests<3.0.0,>=2.7.0 in /usr/local/lib/python3.6/dist-packages (from Cloudant) (2.23.0)\n",
            "Requirement already satisfied: certifi>=2017.4.17 in /usr/local/lib/python3.6/dist-packages (from requests<3.0.0,>=2.7.0->Cloudant) (2020.6.20)\n",
            "Requirement already satisfied: urllib3!=1.25.0,!=1.25.1,<1.26,>=1.21.1 in /usr/local/lib/python3.6/dist-packages (from requests<3.0.0,>=2.7.0->Cloudant) (1.24.3)\n",
            "Requirement already satisfied: chardet<4,>=3.0.2 in /usr/local/lib/python3.6/dist-packages (from requests<3.0.0,>=2.7.0->Cloudant) (3.0.4)\n",
            "Requirement already satisfied: idna<3,>=2.5 in /usr/local/lib/python3.6/dist-packages (from requests<3.0.0,>=2.7.0->Cloudant) (2.10)\n"
          ],
          "name": "stdout"
        }
      ]
    },
    {
      "cell_type": "code",
      "metadata": {
        "id": "8laa3dTyFsQA",
        "colab_type": "code",
        "colab": {}
      },
      "source": [
        "from cloudant import Cloudant\n",
        "u = 'fa8daf0c-2837-4d21-b071-abe0bd98ce7f-bluemix'\n",
        "p = 'e0a6a7699e780942a75414dd8dd8c8fc250791449b2f4b1b9aca1e21a5c48c4f'\n",
        "a = 'fa8daf0c-2837-4d21-b071-abe0bd98ce7f-bluemix'\n",
        "client = Cloudant(u, p, account=a, connect=True, auto_renew=True)"
      ],
      "execution_count": 85,
      "outputs": []
    },
    {
      "cell_type": "code",
      "metadata": {
        "id": "8xs2kwQfGQvk",
        "colab_type": "code",
        "colab": {}
      },
      "source": [
        "db = client['fabiano-iot']"
      ],
      "execution_count": 86,
      "outputs": []
    },
    {
      "cell_type": "code",
      "metadata": {
        "id": "miTbXFsjGXxk",
        "colab_type": "code",
        "colab": {
          "base_uri": "https://localhost:8080/",
          "height": 34
        },
        "outputId": "5f5de393-f1a4-426b-d964-ee974eb57755"
      },
      "source": [
        "response = db.all_docs(limit=1000, include_docs=True)\n",
        "\n",
        "docs = []\n",
        "for r in response['rows']:\n",
        "  docs.append(r['doc'])\n",
        "type(docs)"
      ],
      "execution_count": 87,
      "outputs": [
        {
          "output_type": "execute_result",
          "data": {
            "text/plain": [
              "list"
            ]
          },
          "metadata": {
            "tags": []
          },
          "execution_count": 87
        }
      ]
    },
    {
      "cell_type": "markdown",
      "metadata": {
        "id": "n_HhkV6_FH9P",
        "colab_type": "text"
      },
      "source": [
        "<hr>"
      ]
    },
    {
      "cell_type": "markdown",
      "metadata": {
        "id": "ZL66dAjSFH9Q",
        "colab_type": "text"
      },
      "source": [
        "## Download dos conjuntos de dados em formato .csv"
      ]
    },
    {
      "cell_type": "code",
      "metadata": {
        "id": "0wa-Df-jHBXs",
        "colab_type": "code",
        "colab": {
          "base_uri": "https://localhost:8080/",
          "height": 326
        },
        "outputId": "ea4d4690-b407-4eb8-ee08-43668a43c16d"
      },
      "source": [
        "import pandas as pd\n",
        "df_training_dataset = pd.DataFrame(data=docs)\n",
        "df_training_dataset.tail()"
      ],
      "execution_count": 88,
      "outputs": [
        {
          "output_type": "execute_result",
          "data": {
            "text/html": [
              "<div>\n",
              "<style scoped>\n",
              "    .dataframe tbody tr th:only-of-type {\n",
              "        vertical-align: middle;\n",
              "    }\n",
              "\n",
              "    .dataframe tbody tr th {\n",
              "        vertical-align: top;\n",
              "    }\n",
              "\n",
              "    .dataframe thead th {\n",
              "        text-align: right;\n",
              "    }\n",
              "</style>\n",
              "<table border=\"1\" class=\"dataframe\">\n",
              "  <thead>\n",
              "    <tr style=\"text-align: right;\">\n",
              "      <th></th>\n",
              "      <th>_id</th>\n",
              "      <th>_rev</th>\n",
              "      <th>Tempo</th>\n",
              "      <th>Estação</th>\n",
              "      <th>LAT</th>\n",
              "      <th>LONG</th>\n",
              "      <th>Movimentação</th>\n",
              "      <th>Original_473</th>\n",
              "      <th>Original_269</th>\n",
              "      <th>Zero</th>\n",
              "      <th>Maçã-Verde</th>\n",
              "      <th>Tangerina</th>\n",
              "      <th>Citrus</th>\n",
              "      <th>Açaí-Guaraná</th>\n",
              "      <th>Pêssego</th>\n",
              "      <th>TARGET</th>\n",
              "      <th>row</th>\n",
              "    </tr>\n",
              "  </thead>\n",
              "  <tbody>\n",
              "    <tr>\n",
              "      <th>995</th>\n",
              "      <td>0a73ea7e2930072d2fbcca71810cb9e3</td>\n",
              "      <td>1-d5f50d0775ab6ba223a7a17d0643e571</td>\n",
              "      <td>2019-5-19</td>\n",
              "      <td>São Joaquim</td>\n",
              "      <td>-23.5618</td>\n",
              "      <td>-46.6389</td>\n",
              "      <td>33950</td>\n",
              "      <td>86</td>\n",
              "      <td>37</td>\n",
              "      <td>54</td>\n",
              "      <td>7</td>\n",
              "      <td>43</td>\n",
              "      <td>6</td>\n",
              "      <td>43</td>\n",
              "      <td>33</td>\n",
              "      <td>REABASTECER</td>\n",
              "      <td>12739</td>\n",
              "    </tr>\n",
              "    <tr>\n",
              "      <th>996</th>\n",
              "      <td>0a73ea7e2930072d2fbcca71810fa865</td>\n",
              "      <td>1-9c3bfbcefb7ae1e428d6678c56f93f6d</td>\n",
              "      <td>2019-7-7</td>\n",
              "      <td>São Joaquim</td>\n",
              "      <td>-23.5618</td>\n",
              "      <td>-46.6389</td>\n",
              "      <td>32906</td>\n",
              "      <td>56</td>\n",
              "      <td>17</td>\n",
              "      <td>21</td>\n",
              "      <td>23</td>\n",
              "      <td>25</td>\n",
              "      <td>22</td>\n",
              "      <td>13</td>\n",
              "      <td>24</td>\n",
              "      <td>NORMAL</td>\n",
              "      <td>12787</td>\n",
              "    </tr>\n",
              "    <tr>\n",
              "      <th>997</th>\n",
              "      <td>0a73ea7e2930072d2fbcca718114ad4b</td>\n",
              "      <td>1-849859482bf13a6b78b6a34d3d41a2e8</td>\n",
              "      <td>2018-7-9</td>\n",
              "      <td>Ana Rosa</td>\n",
              "      <td>-23.5813</td>\n",
              "      <td>-46.6383</td>\n",
              "      <td>64436</td>\n",
              "      <td>72</td>\n",
              "      <td>24</td>\n",
              "      <td>13</td>\n",
              "      <td>39</td>\n",
              "      <td>23</td>\n",
              "      <td>10</td>\n",
              "      <td>20</td>\n",
              "      <td>35</td>\n",
              "      <td>NORMAL</td>\n",
              "      <td>11709</td>\n",
              "    </tr>\n",
              "    <tr>\n",
              "      <th>998</th>\n",
              "      <td>0a73ea7e2930072d2fbcca71811a7a5d</td>\n",
              "      <td>1-ba4583563c757c8b8039b682316af194</td>\n",
              "      <td>2018-2-17</td>\n",
              "      <td>São Judas</td>\n",
              "      <td>-23.6255</td>\n",
              "      <td>-46.6411</td>\n",
              "      <td>14450</td>\n",
              "      <td>78</td>\n",
              "      <td>65</td>\n",
              "      <td>15</td>\n",
              "      <td>9</td>\n",
              "      <td>25</td>\n",
              "      <td>26</td>\n",
              "      <td>19</td>\n",
              "      <td>6</td>\n",
              "      <td>REABASTECER</td>\n",
              "      <td>13007</td>\n",
              "    </tr>\n",
              "    <tr>\n",
              "      <th>999</th>\n",
              "      <td>0a73ea7e2930072d2fbcca71811b68c7</td>\n",
              "      <td>1-b5fe10df4aaaf92117e13fb6e99e96ed</td>\n",
              "      <td>2018-11-15</td>\n",
              "      <td>Ana Rosa</td>\n",
              "      <td>-23.5813</td>\n",
              "      <td>-46.6383</td>\n",
              "      <td>64735</td>\n",
              "      <td>4</td>\n",
              "      <td>8</td>\n",
              "      <td>55</td>\n",
              "      <td>41</td>\n",
              "      <td>19</td>\n",
              "      <td>28</td>\n",
              "      <td>30</td>\n",
              "      <td>43</td>\n",
              "      <td>REABASTECER</td>\n",
              "      <td>11835</td>\n",
              "    </tr>\n",
              "  </tbody>\n",
              "</table>\n",
              "</div>"
            ],
            "text/plain": [
              "                                  _id  ...    row\n",
              "995  0a73ea7e2930072d2fbcca71810cb9e3  ...  12739\n",
              "996  0a73ea7e2930072d2fbcca71810fa865  ...  12787\n",
              "997  0a73ea7e2930072d2fbcca718114ad4b  ...  11709\n",
              "998  0a73ea7e2930072d2fbcca71811a7a5d  ...  13007\n",
              "999  0a73ea7e2930072d2fbcca71811b68c7  ...  11835\n",
              "\n",
              "[5 rows x 17 columns]"
            ]
          },
          "metadata": {
            "tags": []
          },
          "execution_count": 88
        }
      ]
    },
    {
      "cell_type": "markdown",
      "metadata": {
        "id": "ssMh9As993JH",
        "colab_type": "text"
      },
      "source": [
        "#Verificando se ha dados missing values\n"
      ]
    },
    {
      "cell_type": "code",
      "metadata": {
        "id": "8xwcX7riQzQW",
        "colab_type": "code",
        "colab": {
          "base_uri": "https://localhost:8080/",
          "height": 323
        },
        "outputId": "df55ff7f-3f61-4cbe-8819-d8dadc8a4124"
      },
      "source": [
        "df_training_dataset.isna().sum()"
      ],
      "execution_count": 90,
      "outputs": [
        {
          "output_type": "execute_result",
          "data": {
            "text/plain": [
              "_id             0\n",
              "_rev            0\n",
              "Tempo           0\n",
              "Estação         0\n",
              "LAT             0\n",
              "LONG            0\n",
              "Movimentação    0\n",
              "Original_473    0\n",
              "Original_269    0\n",
              "Zero            0\n",
              "Maçã-Verde      0\n",
              "Tangerina       0\n",
              "Citrus          0\n",
              "Açaí-Guaraná    0\n",
              "Pêssego         0\n",
              "TARGET          0\n",
              "row             0\n",
              "dtype: int64"
            ]
          },
          "metadata": {
            "tags": []
          },
          "execution_count": 90
        }
      ]
    },
    {
      "cell_type": "code",
      "metadata": {
        "id": "hkQ3c_8qJNJV",
        "colab_type": "code",
        "colab": {
          "base_uri": "https://localhost:8080/",
          "height": 425
        },
        "outputId": "999ea948-a3e0-401e-e9a6-dcb6103586d1"
      },
      "source": [
        "df_training_dataset.info()"
      ],
      "execution_count": 91,
      "outputs": [
        {
          "output_type": "stream",
          "text": [
            "<class 'pandas.core.frame.DataFrame'>\n",
            "RangeIndex: 1000 entries, 0 to 999\n",
            "Data columns (total 17 columns):\n",
            " #   Column        Non-Null Count  Dtype \n",
            "---  ------        --------------  ----- \n",
            " 0   _id           1000 non-null   object\n",
            " 1   _rev          1000 non-null   object\n",
            " 2   Tempo         1000 non-null   object\n",
            " 3   Estação       1000 non-null   object\n",
            " 4   LAT           1000 non-null   object\n",
            " 5   LONG          1000 non-null   object\n",
            " 6   Movimentação  1000 non-null   object\n",
            " 7   Original_473  1000 non-null   object\n",
            " 8   Original_269  1000 non-null   object\n",
            " 9   Zero          1000 non-null   object\n",
            " 10  Maçã-Verde    1000 non-null   object\n",
            " 11  Tangerina     1000 non-null   object\n",
            " 12  Citrus        1000 non-null   object\n",
            " 13  Açaí-Guaraná  1000 non-null   object\n",
            " 14  Pêssego       1000 non-null   object\n",
            " 15  TARGET        1000 non-null   object\n",
            " 16  row           1000 non-null   int64 \n",
            "dtypes: int64(1), object(16)\n",
            "memory usage: 132.9+ KB\n"
          ],
          "name": "stdout"
        }
      ]
    },
    {
      "cell_type": "code",
      "metadata": {
        "id": "bMXzAItkLRVF",
        "colab_type": "code",
        "colab": {
          "base_uri": "https://localhost:8080/",
          "height": 323
        },
        "outputId": "0bf143ca-8f94-46fa-8d79-14b96c370eb7"
      },
      "source": [
        "df_training_dataset.nunique()\n"
      ],
      "execution_count": 92,
      "outputs": [
        {
          "output_type": "execute_result",
          "data": {
            "text/plain": [
              "_id             1000\n",
              "_rev             975\n",
              "Tempo            555\n",
              "Estação           25\n",
              "LAT               25\n",
              "LONG              25\n",
              "Movimentação     969\n",
              "Original_473      81\n",
              "Original_269      65\n",
              "Zero              63\n",
              "Maçã-Verde        43\n",
              "Tangerina         42\n",
              "Citrus            43\n",
              "Açaí-Guaraná      42\n",
              "Pêssego           42\n",
              "TARGET             2\n",
              "row              975\n",
              "dtype: int64"
            ]
          },
          "metadata": {
            "tags": []
          },
          "execution_count": 92
        }
      ]
    },
    {
      "cell_type": "code",
      "metadata": {
        "id": "ebZK1x0ONQGx",
        "colab_type": "code",
        "colab": {}
      },
      "source": [
        "df_training_dataset['TargetNumber'] = df_training_dataset['TARGET'].map({\"NORMAL\" : 0, \"REABASTECER\" : 1})"
      ],
      "execution_count": 94,
      "outputs": []
    },
    {
      "cell_type": "code",
      "metadata": {
        "id": "myggfJ-xa3Kn",
        "colab_type": "code",
        "colab": {
          "base_uri": "https://localhost:8080/",
          "height": 326
        },
        "outputId": "e4526749-7fd9-4565-88c7-4ba66207a810"
      },
      "source": [
        "df_training_dataset.head()"
      ],
      "execution_count": 95,
      "outputs": [
        {
          "output_type": "execute_result",
          "data": {
            "text/html": [
              "<div>\n",
              "<style scoped>\n",
              "    .dataframe tbody tr th:only-of-type {\n",
              "        vertical-align: middle;\n",
              "    }\n",
              "\n",
              "    .dataframe tbody tr th {\n",
              "        vertical-align: top;\n",
              "    }\n",
              "\n",
              "    .dataframe thead th {\n",
              "        text-align: right;\n",
              "    }\n",
              "</style>\n",
              "<table border=\"1\" class=\"dataframe\">\n",
              "  <thead>\n",
              "    <tr style=\"text-align: right;\">\n",
              "      <th></th>\n",
              "      <th>_id</th>\n",
              "      <th>_rev</th>\n",
              "      <th>Tempo</th>\n",
              "      <th>Estação</th>\n",
              "      <th>LAT</th>\n",
              "      <th>LONG</th>\n",
              "      <th>Movimentação</th>\n",
              "      <th>Original_473</th>\n",
              "      <th>Original_269</th>\n",
              "      <th>Zero</th>\n",
              "      <th>Maçã-Verde</th>\n",
              "      <th>Tangerina</th>\n",
              "      <th>Citrus</th>\n",
              "      <th>Açaí-Guaraná</th>\n",
              "      <th>Pêssego</th>\n",
              "      <th>TARGET</th>\n",
              "      <th>row</th>\n",
              "      <th>TargetNumber</th>\n",
              "    </tr>\n",
              "  </thead>\n",
              "  <tbody>\n",
              "    <tr>\n",
              "      <th>0</th>\n",
              "      <td>011aab6aff3393577a24fba841000e67</td>\n",
              "      <td>1-e20d2100ab05f7aa3d1a9350b4387ade</td>\n",
              "      <td>2018-3-12</td>\n",
              "      <td>Brás</td>\n",
              "      <td>-23.5451</td>\n",
              "      <td>-46.6162</td>\n",
              "      <td>71279</td>\n",
              "      <td>60</td>\n",
              "      <td>61</td>\n",
              "      <td>32</td>\n",
              "      <td>32</td>\n",
              "      <td>18</td>\n",
              "      <td>31</td>\n",
              "      <td>11</td>\n",
              "      <td>3</td>\n",
              "      <td>NORMAL</td>\n",
              "      <td>4392</td>\n",
              "      <td>0</td>\n",
              "    </tr>\n",
              "    <tr>\n",
              "      <th>1</th>\n",
              "      <td>011aab6aff3393577a24fba841001b06</td>\n",
              "      <td>1-24a370af81e42c9b47d6da14bf5e945a</td>\n",
              "      <td>2019-7-16</td>\n",
              "      <td>São Judas</td>\n",
              "      <td>-23.6255</td>\n",
              "      <td>-46.6411</td>\n",
              "      <td>17011</td>\n",
              "      <td>55</td>\n",
              "      <td>20</td>\n",
              "      <td>8</td>\n",
              "      <td>18</td>\n",
              "      <td>12</td>\n",
              "      <td>33</td>\n",
              "      <td>3</td>\n",
              "      <td>6</td>\n",
              "      <td>NORMAL</td>\n",
              "      <td>13516</td>\n",
              "      <td>0</td>\n",
              "    </tr>\n",
              "    <tr>\n",
              "      <th>2</th>\n",
              "      <td>011aab6aff3393577a24fba84101dbea</td>\n",
              "      <td>1-08b66ddd664e0b6d63a88fa007c8265b</td>\n",
              "      <td>2019-8-11</td>\n",
              "      <td>São Judas</td>\n",
              "      <td>-23.6255</td>\n",
              "      <td>-46.6411</td>\n",
              "      <td>15394</td>\n",
              "      <td>75</td>\n",
              "      <td>6</td>\n",
              "      <td>46</td>\n",
              "      <td>15</td>\n",
              "      <td>40</td>\n",
              "      <td>36</td>\n",
              "      <td>37</td>\n",
              "      <td>41</td>\n",
              "      <td>REABASTECER</td>\n",
              "      <td>13541</td>\n",
              "      <td>1</td>\n",
              "    </tr>\n",
              "    <tr>\n",
              "      <th>3</th>\n",
              "      <td>011aab6aff3393577a24fba8410469dd</td>\n",
              "      <td>1-06e01c39938a1337cb0246a42c90e7a4</td>\n",
              "      <td>2018-6-4</td>\n",
              "      <td>Brás</td>\n",
              "      <td>-23.5451</td>\n",
              "      <td>-46.6162</td>\n",
              "      <td>71439</td>\n",
              "      <td>58</td>\n",
              "      <td>12</td>\n",
              "      <td>65</td>\n",
              "      <td>22</td>\n",
              "      <td>12</td>\n",
              "      <td>6</td>\n",
              "      <td>17</td>\n",
              "      <td>22</td>\n",
              "      <td>NORMAL</td>\n",
              "      <td>4474</td>\n",
              "      <td>0</td>\n",
              "    </tr>\n",
              "    <tr>\n",
              "      <th>4</th>\n",
              "      <td>011aab6aff3393577a24fba841060ebd</td>\n",
              "      <td>1-61d516d520735b354c043a187faf2f72</td>\n",
              "      <td>2018-2-28</td>\n",
              "      <td>São Judas</td>\n",
              "      <td>-23.6255</td>\n",
              "      <td>-46.6411</td>\n",
              "      <td>17396</td>\n",
              "      <td>44</td>\n",
              "      <td>9</td>\n",
              "      <td>18</td>\n",
              "      <td>18</td>\n",
              "      <td>23</td>\n",
              "      <td>43</td>\n",
              "      <td>18</td>\n",
              "      <td>5</td>\n",
              "      <td>NORMAL</td>\n",
              "      <td>13018</td>\n",
              "      <td>0</td>\n",
              "    </tr>\n",
              "  </tbody>\n",
              "</table>\n",
              "</div>"
            ],
            "text/plain": [
              "                                _id  ... TargetNumber\n",
              "0  011aab6aff3393577a24fba841000e67  ...            0\n",
              "1  011aab6aff3393577a24fba841001b06  ...            0\n",
              "2  011aab6aff3393577a24fba84101dbea  ...            1\n",
              "3  011aab6aff3393577a24fba8410469dd  ...            0\n",
              "4  011aab6aff3393577a24fba841060ebd  ...            0\n",
              "\n",
              "[5 rows x 18 columns]"
            ]
          },
          "metadata": {
            "tags": []
          },
          "execution_count": 95
        }
      ]
    },
    {
      "cell_type": "markdown",
      "metadata": {
        "id": "KrJowjZeFH9k",
        "colab_type": "text"
      },
      "source": [
        "Sobre o arquivo \"training_dataset.csv\", temos algumas informações gerais sobre os pontos de vendas da TNT:\n",
        "\n",
        "**Tempo**\n",
        "\n",
        "**Estação**\n",
        "\n",
        "**LAT**\n",
        "\n",
        "**LONG**\n",
        "\n",
        "**Movimentação**\n",
        "\n",
        "**Original_473**\n",
        "\n",
        "**Original_269**\n",
        "\n",
        "**Zero**\n",
        "\n",
        "**Maçã-Verde**\n",
        "\n",
        "**Tangerina**\n",
        "\n",
        "**Citrus**\n",
        "\n",
        "**Açaí-Guaraná**\n",
        "\n",
        "**Pêssego**\n",
        "\n",
        "**TARGET**"
      ]
    },
    {
      "cell_type": "markdown",
      "metadata": {
        "id": "31QgYlKyFH9u",
        "colab_type": "text"
      },
      "source": [
        "<hr>\n",
        "\n",
        "## Detalhamento do desafio: classificação binária\n",
        "\n",
        "Este é um desafio cujo objetivo de negócio é a segmentação dos usuários de aplicativo de um banco. Para tal, podemos utilizar duas abordagens: aprendizado de máquina supervisionado (classificação) ou não-supervisionado (clustering). Neste desafio será aplicada a classificação, pois é disponível um dataset já com \"labels\", ou em outras palavras, já com exemplos de dados juntamente com a variável alvo.\n",
        "\n",
        "Na biblioteca scikit-learn temos diversos algoritmos para classificação. O participante é livre para utilizar o framework que desejar para completar esse desafio.\n",
        "\n",
        "Neste notebook será mostrado um exeplo de uso do algoritmo \"Decision Tree\" para classificar parte dos estudantes em seis diferentes perfís."
      ]
    },
    {
      "cell_type": "markdown",
      "metadata": {
        "id": "lnsIf2H5FH9v",
        "colab_type": "text"
      },
      "source": [
        "# Atenção!\n",
        "\n",
        "A coluna-alvo neste desafio é a coluna ``TARGET``"
      ]
    },
    {
      "cell_type": "markdown",
      "metadata": {
        "id": "gs-pmaMeFH9w",
        "colab_type": "text"
      },
      "source": [
        "<hr>"
      ]
    },
    {
      "cell_type": "code",
      "metadata": {
        "id": "KZrprYkKFH9x",
        "colab_type": "code",
        "colab": {}
      },
      "source": [
        ""
      ],
      "execution_count": 95,
      "outputs": []
    },
    {
      "cell_type": "code",
      "metadata": {
        "id": "WUcB11HbFH91",
        "colab_type": "code",
        "colab": {}
      },
      "source": [
        ""
      ],
      "execution_count": 95,
      "outputs": []
    },
    {
      "cell_type": "code",
      "metadata": {
        "id": "zmAidEBOFH96",
        "colab_type": "code",
        "colab": {}
      },
      "source": [
        ""
      ],
      "execution_count": 95,
      "outputs": []
    },
    {
      "cell_type": "markdown",
      "metadata": {
        "id": "JEHzLUl4FH-B",
        "colab_type": "text"
      },
      "source": [
        "## Pre-processando o dataset antes do treinamento"
      ]
    },
    {
      "cell_type": "markdown",
      "metadata": {
        "id": "pjM1-mJqFH-C",
        "colab_type": "text"
      },
      "source": [
        "### Processando valores NaN com o SimpleImputer do sklearn\n",
        "\n",
        "Para os valores NaN, usaremos a substituição pela constante 0 como **exemplo**.\n",
        "\n",
        "Você pode escolher a estratégia que achar melhor para tratar os valores nulos :)\n",
        "\n",
        "Docs: https://scikit-learn.org/stable/modules/generated/sklearn.impute.SimpleImputer.html?highlight=simpleimputer#sklearn.impute.SimpleImputer"
      ]
    },
    {
      "cell_type": "code",
      "metadata": {
        "id": "hxBWbQjvFH-G",
        "colab_type": "code",
        "colab": {}
      },
      "source": [
        "from sklearn.impute import SimpleImputer\n",
        "import numpy as np\n",
        "\n",
        "\n",
        "impute_zeros = SimpleImputer(\n",
        "    missing_values=np.nan,\n",
        "    strategy='constant',\n",
        "    fill_value=0,\n",
        "    verbose=0,\n",
        "    copy=True\n",
        ")"
      ],
      "execution_count": 96,
      "outputs": []
    },
    {
      "cell_type": "code",
      "metadata": {
        "id": "0R2i8WZGFH-N",
        "colab_type": "code",
        "colab": {
          "base_uri": "https://localhost:8080/",
          "height": 765
        },
        "outputId": "94c5ebb6-5818-43ef-8d47-ee9232aaed70"
      },
      "source": [
        "# Exibindo os dados ausentes do conjunto de dados antes da primeira transformação (df)\n",
        "print(\"Valores nulos no df_training_dataset antes da transformação SimpleImputer: \\n\\n{}\\n\".format(df_training_dataset.isnull().sum(axis = 0)))\n",
        "\n",
        "# Aplicando a transformação ``SimpleImputer`` no conjunto de dados base\n",
        "impute_zeros.fit(X=df_training_dataset)\n",
        "\n",
        "# Reconstruindo um Pandas DataFrame com os resultados\n",
        "df_training_dataset_imputed = pd.DataFrame.from_records(\n",
        "    data=impute_zeros.transform(\n",
        "        X=df_training_dataset\n",
        "    ),\n",
        "    columns=df_training_dataset.columns\n",
        ")\n",
        "\n",
        "# Exibindo os dados ausentes do conjunto de dados após a primeira transformação (df)\n",
        "print(\"Valores nulos no df_training_dataset após a transformação SimpleImputer: \\n\\n{}\\n\".format(df_training_dataset_imputed.isnull().sum(axis = 0)))"
      ],
      "execution_count": 97,
      "outputs": [
        {
          "output_type": "stream",
          "text": [
            "Valores nulos no df_training_dataset antes da transformação SimpleImputer: \n",
            "\n",
            "_id             0\n",
            "_rev            0\n",
            "Tempo           0\n",
            "Estação         0\n",
            "LAT             0\n",
            "LONG            0\n",
            "Movimentação    0\n",
            "Original_473    0\n",
            "Original_269    0\n",
            "Zero            0\n",
            "Maçã-Verde      0\n",
            "Tangerina       0\n",
            "Citrus          0\n",
            "Açaí-Guaraná    0\n",
            "Pêssego         0\n",
            "TARGET          0\n",
            "row             0\n",
            "TargetNumber    0\n",
            "dtype: int64\n",
            "\n",
            "Valores nulos no df_training_dataset após a transformação SimpleImputer: \n",
            "\n",
            "_id             0\n",
            "_rev            0\n",
            "Tempo           0\n",
            "Estação         0\n",
            "LAT             0\n",
            "LONG            0\n",
            "Movimentação    0\n",
            "Original_473    0\n",
            "Original_269    0\n",
            "Zero            0\n",
            "Maçã-Verde      0\n",
            "Tangerina       0\n",
            "Citrus          0\n",
            "Açaí-Guaraná    0\n",
            "Pêssego         0\n",
            "TARGET          0\n",
            "row             0\n",
            "TargetNumber    0\n",
            "dtype: int64\n",
            "\n"
          ],
          "name": "stdout"
        }
      ]
    },
    {
      "cell_type": "markdown",
      "metadata": {
        "id": "6AwyGq9HFH-S",
        "colab_type": "text"
      },
      "source": [
        "### Eliminando colunas indesejadas\n",
        "\n",
        "Vamos **demonstrar** abaixo como usar o método **DataFrame.drop()**.\n",
        "\n",
        "Docs: https://pandas.pydata.org/pandas-docs/stable/reference/api/pandas.DataFrame.drop.html"
      ]
    },
    {
      "cell_type": "code",
      "metadata": {
        "id": "gtG1o7G3FH-T",
        "colab_type": "code",
        "colab": {
          "base_uri": "https://localhost:8080/",
          "height": 326
        },
        "outputId": "a0c5dca4-7815-4f8e-ce7b-bf5f511b6722"
      },
      "source": [
        "df_training_dataset_imputed.tail()"
      ],
      "execution_count": 98,
      "outputs": [
        {
          "output_type": "execute_result",
          "data": {
            "text/html": [
              "<div>\n",
              "<style scoped>\n",
              "    .dataframe tbody tr th:only-of-type {\n",
              "        vertical-align: middle;\n",
              "    }\n",
              "\n",
              "    .dataframe tbody tr th {\n",
              "        vertical-align: top;\n",
              "    }\n",
              "\n",
              "    .dataframe thead th {\n",
              "        text-align: right;\n",
              "    }\n",
              "</style>\n",
              "<table border=\"1\" class=\"dataframe\">\n",
              "  <thead>\n",
              "    <tr style=\"text-align: right;\">\n",
              "      <th></th>\n",
              "      <th>_id</th>\n",
              "      <th>_rev</th>\n",
              "      <th>Tempo</th>\n",
              "      <th>Estação</th>\n",
              "      <th>LAT</th>\n",
              "      <th>LONG</th>\n",
              "      <th>Movimentação</th>\n",
              "      <th>Original_473</th>\n",
              "      <th>Original_269</th>\n",
              "      <th>Zero</th>\n",
              "      <th>Maçã-Verde</th>\n",
              "      <th>Tangerina</th>\n",
              "      <th>Citrus</th>\n",
              "      <th>Açaí-Guaraná</th>\n",
              "      <th>Pêssego</th>\n",
              "      <th>TARGET</th>\n",
              "      <th>row</th>\n",
              "      <th>TargetNumber</th>\n",
              "    </tr>\n",
              "  </thead>\n",
              "  <tbody>\n",
              "    <tr>\n",
              "      <th>995</th>\n",
              "      <td>0a73ea7e2930072d2fbcca71810cb9e3</td>\n",
              "      <td>1-d5f50d0775ab6ba223a7a17d0643e571</td>\n",
              "      <td>2019-5-19</td>\n",
              "      <td>São Joaquim</td>\n",
              "      <td>-23.5618</td>\n",
              "      <td>-46.6389</td>\n",
              "      <td>33950</td>\n",
              "      <td>86</td>\n",
              "      <td>37</td>\n",
              "      <td>54</td>\n",
              "      <td>7</td>\n",
              "      <td>43</td>\n",
              "      <td>6</td>\n",
              "      <td>43</td>\n",
              "      <td>33</td>\n",
              "      <td>REABASTECER</td>\n",
              "      <td>12739</td>\n",
              "      <td>1</td>\n",
              "    </tr>\n",
              "    <tr>\n",
              "      <th>996</th>\n",
              "      <td>0a73ea7e2930072d2fbcca71810fa865</td>\n",
              "      <td>1-9c3bfbcefb7ae1e428d6678c56f93f6d</td>\n",
              "      <td>2019-7-7</td>\n",
              "      <td>São Joaquim</td>\n",
              "      <td>-23.5618</td>\n",
              "      <td>-46.6389</td>\n",
              "      <td>32906</td>\n",
              "      <td>56</td>\n",
              "      <td>17</td>\n",
              "      <td>21</td>\n",
              "      <td>23</td>\n",
              "      <td>25</td>\n",
              "      <td>22</td>\n",
              "      <td>13</td>\n",
              "      <td>24</td>\n",
              "      <td>NORMAL</td>\n",
              "      <td>12787</td>\n",
              "      <td>0</td>\n",
              "    </tr>\n",
              "    <tr>\n",
              "      <th>997</th>\n",
              "      <td>0a73ea7e2930072d2fbcca718114ad4b</td>\n",
              "      <td>1-849859482bf13a6b78b6a34d3d41a2e8</td>\n",
              "      <td>2018-7-9</td>\n",
              "      <td>Ana Rosa</td>\n",
              "      <td>-23.5813</td>\n",
              "      <td>-46.6383</td>\n",
              "      <td>64436</td>\n",
              "      <td>72</td>\n",
              "      <td>24</td>\n",
              "      <td>13</td>\n",
              "      <td>39</td>\n",
              "      <td>23</td>\n",
              "      <td>10</td>\n",
              "      <td>20</td>\n",
              "      <td>35</td>\n",
              "      <td>NORMAL</td>\n",
              "      <td>11709</td>\n",
              "      <td>0</td>\n",
              "    </tr>\n",
              "    <tr>\n",
              "      <th>998</th>\n",
              "      <td>0a73ea7e2930072d2fbcca71811a7a5d</td>\n",
              "      <td>1-ba4583563c757c8b8039b682316af194</td>\n",
              "      <td>2018-2-17</td>\n",
              "      <td>São Judas</td>\n",
              "      <td>-23.6255</td>\n",
              "      <td>-46.6411</td>\n",
              "      <td>14450</td>\n",
              "      <td>78</td>\n",
              "      <td>65</td>\n",
              "      <td>15</td>\n",
              "      <td>9</td>\n",
              "      <td>25</td>\n",
              "      <td>26</td>\n",
              "      <td>19</td>\n",
              "      <td>6</td>\n",
              "      <td>REABASTECER</td>\n",
              "      <td>13007</td>\n",
              "      <td>1</td>\n",
              "    </tr>\n",
              "    <tr>\n",
              "      <th>999</th>\n",
              "      <td>0a73ea7e2930072d2fbcca71811b68c7</td>\n",
              "      <td>1-b5fe10df4aaaf92117e13fb6e99e96ed</td>\n",
              "      <td>2018-11-15</td>\n",
              "      <td>Ana Rosa</td>\n",
              "      <td>-23.5813</td>\n",
              "      <td>-46.6383</td>\n",
              "      <td>64735</td>\n",
              "      <td>4</td>\n",
              "      <td>8</td>\n",
              "      <td>55</td>\n",
              "      <td>41</td>\n",
              "      <td>19</td>\n",
              "      <td>28</td>\n",
              "      <td>30</td>\n",
              "      <td>43</td>\n",
              "      <td>REABASTECER</td>\n",
              "      <td>11835</td>\n",
              "      <td>1</td>\n",
              "    </tr>\n",
              "  </tbody>\n",
              "</table>\n",
              "</div>"
            ],
            "text/plain": [
              "                                  _id  ... TargetNumber\n",
              "995  0a73ea7e2930072d2fbcca71810cb9e3  ...            1\n",
              "996  0a73ea7e2930072d2fbcca71810fa865  ...            0\n",
              "997  0a73ea7e2930072d2fbcca718114ad4b  ...            0\n",
              "998  0a73ea7e2930072d2fbcca71811a7a5d  ...            1\n",
              "999  0a73ea7e2930072d2fbcca71811b68c7  ...            1\n",
              "\n",
              "[5 rows x 18 columns]"
            ]
          },
          "metadata": {
            "tags": []
          },
          "execution_count": 98
        }
      ]
    },
    {
      "cell_type": "code",
      "metadata": {
        "id": "gXxq5kYLFH-Y",
        "colab_type": "code",
        "colab": {}
      },
      "source": [
        "df_training_dataset_rmcolumns = df_training_dataset_imputed.drop(columns=['_rev', '_id', 'Estação', 'Tempo', 'LAT', 'LONG', 'Movimentação', 'row'], inplace=False)"
      ],
      "execution_count": 109,
      "outputs": []
    },
    {
      "cell_type": "markdown",
      "metadata": {
        "id": "4QE6ZPcAFH-j",
        "colab_type": "text"
      },
      "source": [
        "# Atenção!\n",
        "\n",
        "As colunas removidas acima são apenas para fim de exemplo, você pode usar as colunas que quiser e inclusive criar novas colunas com dados que achar importantes!\n"
      ]
    },
    {
      "cell_type": "markdown",
      "metadata": {
        "id": "u5IcJUVwFH-k",
        "colab_type": "text"
      },
      "source": [
        "### Tratamento de de variáveis categóricas\n",
        "\n",
        "Como mencionado antes, os computadores não são bons com variáveis \"categóricas\" (ou strings).\n",
        "\n",
        "Dado uma coluna com variável categórica, o que podemos realizar é a codificação dessa coluna em múltiplas colunas contendo variáveis binárias. Esse processo é chamado de \"one-hot-encoding\" ou \"dummy encoding\". Se você não é familiarizado com esses termos, você pode pesquisar mais sobre isso na internet :)"
      ]
    },
    {
      "cell_type": "code",
      "metadata": {
        "id": "8SfX2SGjFH-l",
        "colab_type": "code",
        "colab": {
          "base_uri": "https://localhost:8080/",
          "height": 241
        },
        "outputId": "2d4d1fc7-15bb-4b73-8d88-43695aa6f163"
      },
      "source": [
        "# Tratando variáveis categóricas com o método Pandas ``get_dummies()''\n",
        "df_training = pd.get_dummies(df_training_dataset_rmcolumns, columns=['Original_473','Original_269','Zero','Maçã-Verde','Tangerina','Citrus','Açaí-Guaraná','Pêssego'])\n",
        "df_training = df_training_dataset_rmcolumns\n",
        "df_training.tail()"
      ],
      "execution_count": 111,
      "outputs": [
        {
          "output_type": "execute_result",
          "data": {
            "text/html": [
              "<div>\n",
              "<style scoped>\n",
              "    .dataframe tbody tr th:only-of-type {\n",
              "        vertical-align: middle;\n",
              "    }\n",
              "\n",
              "    .dataframe tbody tr th {\n",
              "        vertical-align: top;\n",
              "    }\n",
              "\n",
              "    .dataframe thead th {\n",
              "        text-align: right;\n",
              "    }\n",
              "</style>\n",
              "<table border=\"1\" class=\"dataframe\">\n",
              "  <thead>\n",
              "    <tr style=\"text-align: right;\">\n",
              "      <th></th>\n",
              "      <th>Original_473</th>\n",
              "      <th>Original_269</th>\n",
              "      <th>Zero</th>\n",
              "      <th>Maçã-Verde</th>\n",
              "      <th>Tangerina</th>\n",
              "      <th>Citrus</th>\n",
              "      <th>Açaí-Guaraná</th>\n",
              "      <th>Pêssego</th>\n",
              "      <th>TARGET</th>\n",
              "      <th>TargetNumber</th>\n",
              "    </tr>\n",
              "  </thead>\n",
              "  <tbody>\n",
              "    <tr>\n",
              "      <th>995</th>\n",
              "      <td>86</td>\n",
              "      <td>37</td>\n",
              "      <td>54</td>\n",
              "      <td>7</td>\n",
              "      <td>43</td>\n",
              "      <td>6</td>\n",
              "      <td>43</td>\n",
              "      <td>33</td>\n",
              "      <td>REABASTECER</td>\n",
              "      <td>1</td>\n",
              "    </tr>\n",
              "    <tr>\n",
              "      <th>996</th>\n",
              "      <td>56</td>\n",
              "      <td>17</td>\n",
              "      <td>21</td>\n",
              "      <td>23</td>\n",
              "      <td>25</td>\n",
              "      <td>22</td>\n",
              "      <td>13</td>\n",
              "      <td>24</td>\n",
              "      <td>NORMAL</td>\n",
              "      <td>0</td>\n",
              "    </tr>\n",
              "    <tr>\n",
              "      <th>997</th>\n",
              "      <td>72</td>\n",
              "      <td>24</td>\n",
              "      <td>13</td>\n",
              "      <td>39</td>\n",
              "      <td>23</td>\n",
              "      <td>10</td>\n",
              "      <td>20</td>\n",
              "      <td>35</td>\n",
              "      <td>NORMAL</td>\n",
              "      <td>0</td>\n",
              "    </tr>\n",
              "    <tr>\n",
              "      <th>998</th>\n",
              "      <td>78</td>\n",
              "      <td>65</td>\n",
              "      <td>15</td>\n",
              "      <td>9</td>\n",
              "      <td>25</td>\n",
              "      <td>26</td>\n",
              "      <td>19</td>\n",
              "      <td>6</td>\n",
              "      <td>REABASTECER</td>\n",
              "      <td>1</td>\n",
              "    </tr>\n",
              "    <tr>\n",
              "      <th>999</th>\n",
              "      <td>4</td>\n",
              "      <td>8</td>\n",
              "      <td>55</td>\n",
              "      <td>41</td>\n",
              "      <td>19</td>\n",
              "      <td>28</td>\n",
              "      <td>30</td>\n",
              "      <td>43</td>\n",
              "      <td>REABASTECER</td>\n",
              "      <td>1</td>\n",
              "    </tr>\n",
              "  </tbody>\n",
              "</table>\n",
              "</div>"
            ],
            "text/plain": [
              "    Original_473 Original_269 Zero  ... Pêssego       TARGET TargetNumber\n",
              "995           86           37   54  ...      33  REABASTECER            1\n",
              "996           56           17   21  ...      24       NORMAL            0\n",
              "997           72           24   13  ...      35       NORMAL            0\n",
              "998           78           65   15  ...       6  REABASTECER            1\n",
              "999            4            8   55  ...      43  REABASTECER            1\n",
              "\n",
              "[5 rows x 10 columns]"
            ]
          },
          "metadata": {
            "tags": []
          },
          "execution_count": 111
        }
      ]
    },
    {
      "cell_type": "code",
      "metadata": {
        "id": "P6No3akkvgyY",
        "colab_type": "code",
        "colab": {
          "base_uri": "https://localhost:8080/",
          "height": 306
        },
        "outputId": "31b771f1-6b59-435e-b66a-135d75c4352d"
      },
      "source": [
        "df_training.info()"
      ],
      "execution_count": 113,
      "outputs": [
        {
          "output_type": "stream",
          "text": [
            "<class 'pandas.core.frame.DataFrame'>\n",
            "RangeIndex: 1000 entries, 0 to 999\n",
            "Data columns (total 10 columns):\n",
            " #   Column        Non-Null Count  Dtype \n",
            "---  ------        --------------  ----- \n",
            " 0   Original_473  1000 non-null   object\n",
            " 1   Original_269  1000 non-null   object\n",
            " 2   Zero          1000 non-null   object\n",
            " 3   Maçã-Verde    1000 non-null   object\n",
            " 4   Tangerina     1000 non-null   object\n",
            " 5   Citrus        1000 non-null   object\n",
            " 6   Açaí-Guaraná  1000 non-null   object\n",
            " 7   Pêssego       1000 non-null   object\n",
            " 8   TARGET        1000 non-null   object\n",
            " 9   TargetNumber  1000 non-null   int64 \n",
            "dtypes: int64(1), object(9)\n",
            "memory usage: 78.2+ KB\n"
          ],
          "name": "stdout"
        }
      ]
    },
    {
      "cell_type": "code",
      "metadata": {
        "id": "dDpiSUSs18tC",
        "colab_type": "code",
        "colab": {}
      },
      "source": [
        "df_training[['Original_473','Original_269','Zero','Maçã-Verde','Tangerina','Citrus','Açaí-Guaraná','Pêssego']] = df_training[['Original_473','Original_269','Zero','Maçã-Verde','Tangerina','Citrus','Açaí-Guaraná','Pêssego']].apply(pd.to_numeric)"
      ],
      "execution_count": 114,
      "outputs": []
    },
    {
      "cell_type": "code",
      "metadata": {
        "id": "un05yedH3OkQ",
        "colab_type": "code",
        "colab": {
          "base_uri": "https://localhost:8080/",
          "height": 306
        },
        "outputId": "f39f28f6-a965-4f4e-d380-559e88fc9397"
      },
      "source": [
        "df_training.info()"
      ],
      "execution_count": 115,
      "outputs": [
        {
          "output_type": "stream",
          "text": [
            "<class 'pandas.core.frame.DataFrame'>\n",
            "RangeIndex: 1000 entries, 0 to 999\n",
            "Data columns (total 10 columns):\n",
            " #   Column        Non-Null Count  Dtype \n",
            "---  ------        --------------  ----- \n",
            " 0   Original_473  1000 non-null   int64 \n",
            " 1   Original_269  1000 non-null   int64 \n",
            " 2   Zero          1000 non-null   int64 \n",
            " 3   Maçã-Verde    1000 non-null   int64 \n",
            " 4   Tangerina     1000 non-null   int64 \n",
            " 5   Citrus        1000 non-null   int64 \n",
            " 6   Açaí-Guaraná  1000 non-null   int64 \n",
            " 7   Pêssego       1000 non-null   int64 \n",
            " 8   TARGET        1000 non-null   object\n",
            " 9   TargetNumber  1000 non-null   int64 \n",
            "dtypes: int64(9), object(1)\n",
            "memory usage: 78.2+ KB\n"
          ],
          "name": "stdout"
        }
      ]
    },
    {
      "cell_type": "markdown",
      "metadata": {
        "id": "7g1cHL8XFH-p",
        "colab_type": "text"
      },
      "source": [
        "# Atenção!\n",
        "\n",
        "A coluna **TARGET** deve ser mantida como uma string. Você não precisa processar/codificar a variável-alvo."
      ]
    },
    {
      "cell_type": "markdown",
      "metadata": {
        "id": "XPZwCV3KFH-q",
        "colab_type": "text"
      },
      "source": [
        "<hr>"
      ]
    },
    {
      "cell_type": "markdown",
      "metadata": {
        "id": "yAc6vcGtFH-r",
        "colab_type": "text"
      },
      "source": [
        "## Treinando um classificador com base em uma árvore de decisão"
      ]
    },
    {
      "cell_type": "markdown",
      "metadata": {
        "id": "HfX9I_8UFH-r",
        "colab_type": "text"
      },
      "source": [
        "### Selecionando FEATURES e definindo a variável TARGET"
      ]
    },
    {
      "cell_type": "code",
      "metadata": {
        "id": "oNqa4KEuFH-s",
        "colab_type": "code",
        "colab": {
          "base_uri": "https://localhost:8080/",
          "height": 68
        },
        "outputId": "0fb4274c-b7b4-47e0-93af-f01d95e0c835"
      },
      "source": [
        "df_training.columns"
      ],
      "execution_count": 116,
      "outputs": [
        {
          "output_type": "execute_result",
          "data": {
            "text/plain": [
              "Index(['Original_473', 'Original_269', 'Zero', 'Maçã-Verde', 'Tangerina',\n",
              "       'Citrus', 'Açaí-Guaraná', 'Pêssego', 'TARGET', 'TargetNumber'],\n",
              "      dtype='object')"
            ]
          },
          "metadata": {
            "tags": []
          },
          "execution_count": 116
        }
      ]
    },
    {
      "cell_type": "markdown",
      "metadata": {
        "id": "pgjC0TClAiik",
        "colab_type": "text"
      },
      "source": [
        ""
      ]
    },
    {
      "cell_type": "code",
      "metadata": {
        "id": "EvLbzGWHFH-w",
        "colab_type": "code",
        "colab": {}
      },
      "source": [
        "features = df_training[\n",
        "    [\n",
        "        'Original_473', 'Original_269', 'Zero', 'Maçã-Verde', 'Tangerina',\n",
        "       'Citrus', 'Açaí-Guaraná', 'Pêssego', 'TargetNumber'\n",
        "    ]\n",
        "]\n",
        "target = df_training['TARGET']  ## NÃO TROQUE O NOME DA VARIÁVEL TARGET."
      ],
      "execution_count": 117,
      "outputs": []
    },
    {
      "cell_type": "markdown",
      "metadata": {
        "id": "N2YTTSBOFH-2",
        "colab_type": "text"
      },
      "source": [
        "### Dividindo nosso conjunto de dados em conjuntos de treinamento e teste"
      ]
    },
    {
      "cell_type": "code",
      "metadata": {
        "id": "deUCEI5lFH-4",
        "colab_type": "code",
        "colab": {}
      },
      "source": [
        "from sklearn.model_selection import train_test_split\n",
        "\n",
        "\n",
        "X_train, X_test, y_train, y_test = train_test_split(features, target, test_size=0.70, random_state=133)"
      ],
      "execution_count": 118,
      "outputs": []
    },
    {
      "cell_type": "markdown",
      "metadata": {
        "id": "EPJWFutyFH_A",
        "colab_type": "text"
      },
      "source": [
        "### Treinando uma árvore de decisão"
      ]
    },
    {
      "cell_type": "code",
      "metadata": {
        "id": "aCtyFYHnFH_B",
        "colab_type": "code",
        "colab": {}
      },
      "source": [
        "# Método para criar um árvore de decisão\n",
        "from sklearn.tree import DecisionTreeClassifier\n",
        "\n",
        "\n",
        "dtc = DecisionTreeClassifier(max_depth=15).fit(X_train, y_train)"
      ],
      "execution_count": 119,
      "outputs": []
    },
    {
      "cell_type": "markdown",
      "metadata": {
        "id": "kBbPPVGOFH_G",
        "colab_type": "text"
      },
      "source": [
        "### Fazendo previsões na amostra de teste"
      ]
    },
    {
      "cell_type": "code",
      "metadata": {
        "id": "F-a5zTywFH_I",
        "colab_type": "code",
        "colab": {
          "base_uri": "https://localhost:8080/",
          "height": 1000
        },
        "outputId": "9c7fca89-bb9a-40ee-9444-75f7087df161"
      },
      "source": [
        "y_pred = dtc.predict(X_test)\n",
        "print(y_pred)"
      ],
      "execution_count": 120,
      "outputs": [
        {
          "output_type": "stream",
          "text": [
            "['REABASTECER' 'NORMAL' 'REABASTECER' 'REABASTECER' 'REABASTECER'\n",
            " 'REABASTECER' 'NORMAL' 'REABASTECER' 'REABASTECER' 'NORMAL' 'REABASTECER'\n",
            " 'NORMAL' 'REABASTECER' 'NORMAL' 'NORMAL' 'REABASTECER' 'NORMAL' 'NORMAL'\n",
            " 'REABASTECER' 'REABASTECER' 'NORMAL' 'NORMAL' 'NORMAL' 'NORMAL' 'NORMAL'\n",
            " 'NORMAL' 'REABASTECER' 'REABASTECER' 'NORMAL' 'NORMAL' 'NORMAL' 'NORMAL'\n",
            " 'NORMAL' 'NORMAL' 'REABASTECER' 'REABASTECER' 'NORMAL' 'NORMAL' 'NORMAL'\n",
            " 'NORMAL' 'NORMAL' 'NORMAL' 'REABASTECER' 'NORMAL' 'NORMAL' 'NORMAL'\n",
            " 'NORMAL' 'REABASTECER' 'NORMAL' 'REABASTECER' 'NORMAL' 'NORMAL' 'NORMAL'\n",
            " 'REABASTECER' 'NORMAL' 'REABASTECER' 'NORMAL' 'NORMAL' 'REABASTECER'\n",
            " 'NORMAL' 'NORMAL' 'NORMAL' 'NORMAL' 'NORMAL' 'REABASTECER' 'NORMAL'\n",
            " 'NORMAL' 'NORMAL' 'REABASTECER' 'NORMAL' 'REABASTECER' 'NORMAL' 'NORMAL'\n",
            " 'REABASTECER' 'NORMAL' 'NORMAL' 'REABASTECER' 'NORMAL' 'NORMAL' 'NORMAL'\n",
            " 'NORMAL' 'NORMAL' 'REABASTECER' 'REABASTECER' 'REABASTECER' 'REABASTECER'\n",
            " 'NORMAL' 'NORMAL' 'NORMAL' 'REABASTECER' 'NORMAL' 'NORMAL' 'NORMAL'\n",
            " 'NORMAL' 'NORMAL' 'NORMAL' 'REABASTECER' 'NORMAL' 'REABASTECER'\n",
            " 'REABASTECER' 'NORMAL' 'NORMAL' 'NORMAL' 'REABASTECER' 'REABASTECER'\n",
            " 'NORMAL' 'NORMAL' 'NORMAL' 'NORMAL' 'NORMAL' 'REABASTECER' 'NORMAL'\n",
            " 'REABASTECER' 'NORMAL' 'NORMAL' 'NORMAL' 'NORMAL' 'NORMAL' 'REABASTECER'\n",
            " 'NORMAL' 'NORMAL' 'NORMAL' 'REABASTECER' 'NORMAL' 'NORMAL' 'NORMAL'\n",
            " 'REABASTECER' 'NORMAL' 'REABASTECER' 'NORMAL' 'NORMAL' 'REABASTECER'\n",
            " 'NORMAL' 'REABASTECER' 'NORMAL' 'REABASTECER' 'REABASTECER' 'NORMAL'\n",
            " 'NORMAL' 'NORMAL' 'REABASTECER' 'NORMAL' 'NORMAL' 'REABASTECER' 'NORMAL'\n",
            " 'NORMAL' 'NORMAL' 'NORMAL' 'NORMAL' 'NORMAL' 'NORMAL' 'NORMAL' 'NORMAL'\n",
            " 'REABASTECER' 'REABASTECER' 'REABASTECER' 'NORMAL' 'NORMAL' 'REABASTECER'\n",
            " 'REABASTECER' 'REABASTECER' 'NORMAL' 'REABASTECER' 'NORMAL' 'NORMAL'\n",
            " 'REABASTECER' 'NORMAL' 'REABASTECER' 'REABASTECER' 'NORMAL' 'NORMAL'\n",
            " 'NORMAL' 'REABASTECER' 'NORMAL' 'NORMAL' 'REABASTECER' 'NORMAL' 'NORMAL'\n",
            " 'NORMAL' 'NORMAL' 'REABASTECER' 'NORMAL' 'NORMAL' 'REABASTECER' 'NORMAL'\n",
            " 'NORMAL' 'REABASTECER' 'NORMAL' 'NORMAL' 'NORMAL' 'REABASTECER' 'NORMAL'\n",
            " 'NORMAL' 'NORMAL' 'REABASTECER' 'NORMAL' 'NORMAL' 'NORMAL' 'NORMAL'\n",
            " 'NORMAL' 'REABASTECER' 'NORMAL' 'NORMAL' 'NORMAL' 'NORMAL' 'NORMAL'\n",
            " 'REABASTECER' 'NORMAL' 'REABASTECER' 'NORMAL' 'NORMAL' 'NORMAL' 'NORMAL'\n",
            " 'REABASTECER' 'NORMAL' 'NORMAL' 'NORMAL' 'NORMAL' 'NORMAL' 'NORMAL'\n",
            " 'REABASTECER' 'REABASTECER' 'NORMAL' 'NORMAL' 'REABASTECER' 'REABASTECER'\n",
            " 'NORMAL' 'REABASTECER' 'NORMAL' 'NORMAL' 'REABASTECER' 'NORMAL'\n",
            " 'REABASTECER' 'REABASTECER' 'NORMAL' 'REABASTECER' 'REABASTECER' 'NORMAL'\n",
            " 'NORMAL' 'NORMAL' 'REABASTECER' 'NORMAL' 'NORMAL' 'NORMAL' 'NORMAL'\n",
            " 'REABASTECER' 'NORMAL' 'NORMAL' 'NORMAL' 'REABASTECER' 'REABASTECER'\n",
            " 'NORMAL' 'REABASTECER' 'NORMAL' 'REABASTECER' 'REABASTECER' 'REABASTECER'\n",
            " 'NORMAL' 'NORMAL' 'NORMAL' 'NORMAL' 'NORMAL' 'NORMAL' 'NORMAL' 'NORMAL'\n",
            " 'NORMAL' 'REABASTECER' 'NORMAL' 'NORMAL' 'REABASTECER' 'NORMAL'\n",
            " 'REABASTECER' 'REABASTECER' 'NORMAL' 'NORMAL' 'NORMAL' 'NORMAL' 'NORMAL'\n",
            " 'REABASTECER' 'NORMAL' 'NORMAL' 'REABASTECER' 'REABASTECER' 'NORMAL'\n",
            " 'NORMAL' 'NORMAL' 'REABASTECER' 'NORMAL' 'REABASTECER' 'NORMAL' 'NORMAL'\n",
            " 'NORMAL' 'REABASTECER' 'REABASTECER' 'NORMAL' 'REABASTECER' 'NORMAL'\n",
            " 'NORMAL' 'REABASTECER' 'NORMAL' 'NORMAL' 'REABASTECER' 'NORMAL' 'NORMAL'\n",
            " 'NORMAL' 'NORMAL' 'NORMAL' 'NORMAL' 'NORMAL' 'NORMAL' 'NORMAL'\n",
            " 'REABASTECER' 'NORMAL' 'NORMAL' 'NORMAL' 'NORMAL' 'REABASTECER'\n",
            " 'REABASTECER' 'NORMAL' 'REABASTECER' 'NORMAL' 'NORMAL' 'NORMAL' 'NORMAL'\n",
            " 'REABASTECER' 'REABASTECER' 'NORMAL' 'NORMAL' 'NORMAL' 'REABASTECER'\n",
            " 'NORMAL' 'NORMAL' 'REABASTECER' 'REABASTECER' 'NORMAL' 'REABASTECER'\n",
            " 'NORMAL' 'NORMAL' 'NORMAL' 'NORMAL' 'REABASTECER' 'NORMAL' 'NORMAL'\n",
            " 'REABASTECER' 'NORMAL' 'NORMAL' 'NORMAL' 'REABASTECER' 'NORMAL' 'NORMAL'\n",
            " 'REABASTECER' 'REABASTECER' 'REABASTECER' 'NORMAL' 'NORMAL' 'NORMAL'\n",
            " 'REABASTECER' 'NORMAL' 'NORMAL' 'NORMAL' 'NORMAL' 'REABASTECER'\n",
            " 'REABASTECER' 'NORMAL' 'NORMAL' 'REABASTECER' 'REABASTECER' 'NORMAL'\n",
            " 'NORMAL' 'REABASTECER' 'REABASTECER' 'REABASTECER' 'REABASTECER'\n",
            " 'REABASTECER' 'NORMAL' 'NORMAL' 'NORMAL' 'NORMAL' 'NORMAL' 'NORMAL'\n",
            " 'NORMAL' 'NORMAL' 'NORMAL' 'REABASTECER' 'NORMAL' 'REABASTECER' 'NORMAL'\n",
            " 'REABASTECER' 'NORMAL' 'NORMAL' 'REABASTECER' 'REABASTECER' 'NORMAL'\n",
            " 'REABASTECER' 'REABASTECER' 'NORMAL' 'NORMAL' 'REABASTECER' 'NORMAL'\n",
            " 'NORMAL' 'NORMAL' 'REABASTECER' 'NORMAL' 'NORMAL' 'REABASTECER' 'NORMAL'\n",
            " 'NORMAL' 'NORMAL' 'NORMAL' 'NORMAL' 'NORMAL' 'REABASTECER' 'NORMAL'\n",
            " 'REABASTECER' 'NORMAL' 'REABASTECER' 'NORMAL' 'NORMAL' 'NORMAL' 'NORMAL'\n",
            " 'NORMAL' 'REABASTECER' 'NORMAL' 'REABASTECER' 'NORMAL' 'NORMAL' 'NORMAL'\n",
            " 'NORMAL' 'NORMAL' 'NORMAL' 'NORMAL' 'NORMAL' 'NORMAL' 'NORMAL'\n",
            " 'REABASTECER' 'REABASTECER' 'NORMAL' 'NORMAL' 'NORMAL' 'NORMAL'\n",
            " 'REABASTECER' 'REABASTECER' 'NORMAL' 'REABASTECER' 'REABASTECER' 'NORMAL'\n",
            " 'NORMAL' 'NORMAL' 'NORMAL' 'NORMAL' 'REABASTECER' 'NORMAL' 'NORMAL'\n",
            " 'NORMAL' 'NORMAL' 'REABASTECER' 'REABASTECER' 'NORMAL' 'NORMAL' 'NORMAL'\n",
            " 'REABASTECER' 'NORMAL' 'NORMAL' 'REABASTECER' 'NORMAL' 'REABASTECER'\n",
            " 'REABASTECER' 'NORMAL' 'REABASTECER' 'NORMAL' 'NORMAL' 'REABASTECER'\n",
            " 'NORMAL' 'REABASTECER' 'NORMAL' 'NORMAL' 'NORMAL' 'REABASTECER' 'NORMAL'\n",
            " 'NORMAL' 'NORMAL' 'NORMAL' 'NORMAL' 'NORMAL' 'NORMAL' 'REABASTECER'\n",
            " 'NORMAL' 'REABASTECER' 'REABASTECER' 'REABASTECER' 'REABASTECER' 'NORMAL'\n",
            " 'NORMAL' 'REABASTECER' 'REABASTECER' 'NORMAL' 'NORMAL' 'REABASTECER'\n",
            " 'REABASTECER' 'NORMAL' 'REABASTECER' 'REABASTECER' 'REABASTECER' 'NORMAL'\n",
            " 'NORMAL' 'NORMAL' 'REABASTECER' 'REABASTECER' 'NORMAL' 'NORMAL'\n",
            " 'REABASTECER' 'NORMAL' 'NORMAL' 'NORMAL' 'REABASTECER' 'NORMAL' 'NORMAL'\n",
            " 'NORMAL' 'NORMAL' 'REABASTECER' 'NORMAL' 'NORMAL' 'REABASTECER' 'NORMAL'\n",
            " 'REABASTECER' 'REABASTECER' 'NORMAL' 'NORMAL' 'NORMAL' 'NORMAL' 'NORMAL'\n",
            " 'NORMAL' 'NORMAL' 'NORMAL' 'REABASTECER' 'NORMAL' 'NORMAL' 'NORMAL'\n",
            " 'NORMAL' 'NORMAL' 'REABASTECER' 'REABASTECER' 'NORMAL' 'REABASTECER'\n",
            " 'NORMAL' 'NORMAL' 'REABASTECER' 'NORMAL' 'NORMAL' 'NORMAL' 'NORMAL'\n",
            " 'NORMAL' 'NORMAL' 'NORMAL' 'NORMAL' 'REABASTECER' 'NORMAL' 'REABASTECER'\n",
            " 'REABASTECER' 'REABASTECER' 'REABASTECER' 'NORMAL' 'NORMAL' 'NORMAL'\n",
            " 'NORMAL' 'NORMAL' 'REABASTECER' 'NORMAL' 'REABASTECER' 'NORMAL' 'NORMAL'\n",
            " 'NORMAL' 'NORMAL' 'NORMAL' 'REABASTECER' 'NORMAL' 'NORMAL' 'NORMAL'\n",
            " 'NORMAL' 'NORMAL' 'REABASTECER' 'NORMAL' 'NORMAL' 'NORMAL' 'NORMAL'\n",
            " 'NORMAL' 'REABASTECER' 'NORMAL' 'NORMAL' 'NORMAL' 'REABASTECER'\n",
            " 'REABASTECER' 'NORMAL' 'REABASTECER' 'NORMAL' 'REABASTECER' 'NORMAL'\n",
            " 'REABASTECER' 'NORMAL' 'NORMAL' 'NORMAL' 'REABASTECER' 'REABASTECER'\n",
            " 'REABASTECER' 'REABASTECER' 'NORMAL' 'NORMAL' 'NORMAL' 'NORMAL' 'NORMAL'\n",
            " 'REABASTECER' 'REABASTECER' 'REABASTECER' 'REABASTECER' 'NORMAL' 'NORMAL'\n",
            " 'NORMAL' 'NORMAL' 'NORMAL' 'NORMAL' 'REABASTECER' 'REABASTECER' 'NORMAL'\n",
            " 'NORMAL' 'NORMAL' 'NORMAL' 'NORMAL' 'NORMAL' 'NORMAL' 'REABASTECER'\n",
            " 'NORMAL' 'NORMAL' 'NORMAL' 'NORMAL' 'REABASTECER' 'REABASTECER' 'NORMAL'\n",
            " 'NORMAL' 'REABASTECER' 'NORMAL' 'REABASTECER' 'NORMAL' 'REABASTECER'\n",
            " 'REABASTECER' 'NORMAL' 'REABASTECER' 'REABASTECER' 'REABASTECER' 'NORMAL'\n",
            " 'REABASTECER' 'REABASTECER' 'NORMAL' 'NORMAL' 'NORMAL' 'REABASTECER'\n",
            " 'NORMAL' 'NORMAL' 'REABASTECER' 'NORMAL' 'REABASTECER' 'REABASTECER'\n",
            " 'REABASTECER' 'NORMAL' 'NORMAL' 'REABASTECER' 'NORMAL' 'REABASTECER'\n",
            " 'NORMAL' 'REABASTECER' 'NORMAL' 'NORMAL' 'NORMAL' 'NORMAL' 'NORMAL'\n",
            " 'NORMAL' 'REABASTECER' 'NORMAL' 'NORMAL' 'NORMAL' 'NORMAL' 'NORMAL'\n",
            " 'NORMAL' 'REABASTECER' 'NORMAL' 'REABASTECER' 'NORMAL' 'REABASTECER'\n",
            " 'REABASTECER' 'NORMAL' 'NORMAL' 'REABASTECER' 'NORMAL' 'NORMAL' 'NORMAL'\n",
            " 'REABASTECER' 'NORMAL' 'REABASTECER' 'REABASTECER' 'REABASTECER' 'NORMAL']\n"
          ],
          "name": "stdout"
        }
      ]
    },
    {
      "cell_type": "markdown",
      "metadata": {
        "id": "Sk4GEq9QFH_N",
        "colab_type": "text"
      },
      "source": [
        "### Analisando a qualidade do modelo através da matriz de confusão"
      ]
    },
    {
      "cell_type": "code",
      "metadata": {
        "id": "k90NbtobFH_O",
        "colab_type": "code",
        "colab": {}
      },
      "source": [
        "import matplotlib.pyplot as plt\n",
        "import numpy as np\n",
        "import itertools\n",
        "\n",
        "\n",
        "def plot_confusion_matrix(cm, target_names, title='Confusion matrix', cmap=None, normalize=True):\n",
        "    accuracy = np.trace(cm) / float(np.sum(cm))\n",
        "    misclass = 1 - accuracy\n",
        "    if cmap is None:\n",
        "        cmap = plt.get_cmap('Blues')\n",
        "    plt.figure(figsize=(8, 6))\n",
        "    plt.imshow(cm, interpolation='nearest', cmap=cmap)\n",
        "    plt.title(title)\n",
        "    plt.colorbar()\n",
        "    if target_names is not None:\n",
        "        tick_marks = np.arange(len(target_names))\n",
        "        plt.xticks(tick_marks, target_names, rotation=45)\n",
        "        plt.yticks(tick_marks, target_names)\n",
        "    if normalize:\n",
        "        cm = cm.astype('float') / cm.sum(axis=1)[:, np.newaxis]\n",
        "    thresh = cm.max() / 1.5 if normalize else cm.max() / 2\n",
        "    for i, j in itertools.product(range(cm.shape[0]), range(cm.shape[1])):\n",
        "        if normalize:\n",
        "            plt.text(j, i, \"{:0.2f}\".format(cm[i, j]),\n",
        "                     horizontalalignment=\"center\",\n",
        "                     color=\"white\" if cm[i, j] > thresh else \"black\")\n",
        "        else:\n",
        "            plt.text(j, i, \"{:,}\".format(cm[i, j]),\n",
        "                     horizontalalignment=\"center\",\n",
        "                     color=\"white\" if cm[i, j] > thresh else \"black\")\n",
        "    plt.tight_layout()\n",
        "    plt.ylabel('True label')\n",
        "    plt.xlabel('Predicted label\\naccuracy={:0.4f}; misclass={:0.4f}'.format(accuracy, misclass))\n",
        "    plt.show()"
      ],
      "execution_count": 121,
      "outputs": []
    },
    {
      "cell_type": "code",
      "metadata": {
        "id": "QRCCyiICFH_R",
        "colab_type": "code",
        "colab": {
          "base_uri": "https://localhost:8080/",
          "height": 467
        },
        "outputId": "db39b422-e33c-4b77-98ad-4ecd878c31cb"
      },
      "source": [
        "from sklearn.metrics import confusion_matrix\n",
        "\n",
        "\n",
        "plot_confusion_matrix(confusion_matrix(y_test, y_pred), ['NORMAL', 'REABASTECER'])"
      ],
      "execution_count": 122,
      "outputs": [
        {
          "output_type": "display_data",
          "data": {
            "image/png": "[encoded data removed]",
            "text/plain": [
              "<Figure size 576x432 with 2 Axes>"
            ]
          },
          "metadata": {
            "tags": [],
            "needs_background": "light"
          }
        }
      ]
    },
    {
      "cell_type": "markdown",
      "metadata": {
        "id": "8WWIwapqFH_W",
        "colab_type": "text"
      },
      "source": [
        "<hr>"
      ]
    },
    {
      "cell_type": "markdown",
      "metadata": {
        "id": "U6_zZmtiFH_X",
        "colab_type": "text"
      },
      "source": [
        "## Scoring dos dados necessários para entregar a solução"
      ]
    },
    {
      "cell_type": "markdown",
      "metadata": {
        "id": "r0U4qHQcFH_X",
        "colab_type": "text"
      },
      "source": [
        "Como entrega da sua solução, esperamos os resultados classificados no seguinte dataset chamado \"to_be_scored.csv\":"
      ]
    },
    {
      "cell_type": "markdown",
      "metadata": {
        "id": "h-RospCcFH_Y",
        "colab_type": "text"
      },
      "source": [
        "### Download da \"folha de respostas\""
      ]
    },
    {
      "cell_type": "code",
      "metadata": {
        "scrolled": false,
        "id": "ihzyYPEDFH_Z",
        "colab_type": "code",
        "colab": {
          "base_uri": "https://localhost:8080/",
          "height": 598
        },
        "outputId": "e9b0990f-87c0-4ab9-8dd7-a56c35385f13"
      },
      "source": [
        "!wget --no-check-certificate --content-disposition https://gitlab.com/JoaoPedroPP/datasets/-/raw/master/ntn/to_be_scored.csv\n",
        "df_to_be_scored = pd.read_csv(r'to_be_scored.csv')\n",
        "df_to_be_scored.tail()"
      ],
      "execution_count": 72,
      "outputs": [
        {
          "output_type": "stream",
          "text": [
            "--2020-09-15 05:42:56--  https://gitlab.com/JoaoPedroPP/datasets/-/raw/master/ntn/to_be_scored.csv\n",
            "Resolving gitlab.com (gitlab.com)... 172.65.251.78, 2606:4700:90:0:f22e:fbec:5bed:a9b9\n",
            "Connecting to gitlab.com (gitlab.com)|172.65.251.78|:443... connected.\n",
            "HTTP request sent, awaiting response... 200 OK\n",
            "Length: unspecified [text/plain]\n",
            "Saving to: ‘to_be_scored.csv’\n",
            "\n",
            "to_be_scored.csv        [ <=>                ]  68.64K  --.-KB/s    in 0.01s   \n",
            "\n",
            "2020-09-15 05:42:56 (5.68 MB/s) - ‘to_be_scored.csv’ saved [70291]\n",
            "\n"
          ],
          "name": "stdout"
        },
        {
          "output_type": "execute_result",
          "data": {
            "text/html": [
              "<div>\n",
              "<style scoped>\n",
              "    .dataframe tbody tr th:only-of-type {\n",
              "        vertical-align: middle;\n",
              "    }\n",
              "\n",
              "    .dataframe tbody tr th {\n",
              "        vertical-align: top;\n",
              "    }\n",
              "\n",
              "    .dataframe thead th {\n",
              "        text-align: right;\n",
              "    }\n",
              "</style>\n",
              "<table border=\"1\" class=\"dataframe\">\n",
              "  <thead>\n",
              "    <tr style=\"text-align: right;\">\n",
              "      <th></th>\n",
              "      <th>Tempo</th>\n",
              "      <th>Estação</th>\n",
              "      <th>LAT</th>\n",
              "      <th>LONG</th>\n",
              "      <th>Movimentação</th>\n",
              "      <th>Original_473</th>\n",
              "      <th>Original_269</th>\n",
              "      <th>Zero</th>\n",
              "      <th>Maçã-Verde</th>\n",
              "      <th>Tangerina</th>\n",
              "      <th>Citrus</th>\n",
              "      <th>Açaí-Guaraná</th>\n",
              "      <th>Pêssego</th>\n",
              "    </tr>\n",
              "  </thead>\n",
              "  <tbody>\n",
              "    <tr>\n",
              "      <th>979</th>\n",
              "      <td>2019-8-19</td>\n",
              "      <td>Hospital São Paulo</td>\n",
              "      <td>-23.5984</td>\n",
              "      <td>-46.6455</td>\n",
              "      <td>26787</td>\n",
              "      <td>34</td>\n",
              "      <td>65</td>\n",
              "      <td>28</td>\n",
              "      <td>17</td>\n",
              "      <td>33</td>\n",
              "      <td>27</td>\n",
              "      <td>6</td>\n",
              "      <td>2</td>\n",
              "    </tr>\n",
              "    <tr>\n",
              "      <th>980</th>\n",
              "      <td>2019-8-20</td>\n",
              "      <td>Hospital São Paulo</td>\n",
              "      <td>-23.5984</td>\n",
              "      <td>-46.6455</td>\n",
              "      <td>26629</td>\n",
              "      <td>21</td>\n",
              "      <td>60</td>\n",
              "      <td>18</td>\n",
              "      <td>15</td>\n",
              "      <td>27</td>\n",
              "      <td>22</td>\n",
              "      <td>43</td>\n",
              "      <td>43</td>\n",
              "    </tr>\n",
              "    <tr>\n",
              "      <th>981</th>\n",
              "      <td>2019-8-21</td>\n",
              "      <td>Hospital São Paulo</td>\n",
              "      <td>-23.5984</td>\n",
              "      <td>-46.6455</td>\n",
              "      <td>27517</td>\n",
              "      <td>9</td>\n",
              "      <td>56</td>\n",
              "      <td>13</td>\n",
              "      <td>14</td>\n",
              "      <td>21</td>\n",
              "      <td>17</td>\n",
              "      <td>37</td>\n",
              "      <td>37</td>\n",
              "    </tr>\n",
              "    <tr>\n",
              "      <th>982</th>\n",
              "      <td>2019-8-22</td>\n",
              "      <td>Hospital São Paulo</td>\n",
              "      <td>-23.5984</td>\n",
              "      <td>-46.6455</td>\n",
              "      <td>26860</td>\n",
              "      <td>86</td>\n",
              "      <td>49</td>\n",
              "      <td>7</td>\n",
              "      <td>14</td>\n",
              "      <td>17</td>\n",
              "      <td>12</td>\n",
              "      <td>33</td>\n",
              "      <td>33</td>\n",
              "    </tr>\n",
              "    <tr>\n",
              "      <th>983</th>\n",
              "      <td>2019-8-23</td>\n",
              "      <td>Hospital São Paulo</td>\n",
              "      <td>-23.5984</td>\n",
              "      <td>-46.6455</td>\n",
              "      <td>24571</td>\n",
              "      <td>74</td>\n",
              "      <td>41</td>\n",
              "      <td>65</td>\n",
              "      <td>8</td>\n",
              "      <td>14</td>\n",
              "      <td>7</td>\n",
              "      <td>27</td>\n",
              "      <td>27</td>\n",
              "    </tr>\n",
              "  </tbody>\n",
              "</table>\n",
              "</div>"
            ],
            "text/plain": [
              "         Tempo             Estação      LAT  ...  Citrus  Açaí-Guaraná  Pêssego\n",
              "979  2019-8-19  Hospital São Paulo -23.5984  ...      27             6        2\n",
              "980  2019-8-20  Hospital São Paulo -23.5984  ...      22            43       43\n",
              "981  2019-8-21  Hospital São Paulo -23.5984  ...      17            37       37\n",
              "982  2019-8-22  Hospital São Paulo -23.5984  ...      12            33       33\n",
              "983  2019-8-23  Hospital São Paulo -23.5984  ...       7            27       27\n",
              "\n",
              "[5 rows x 13 columns]"
            ]
          },
          "metadata": {
            "tags": []
          },
          "execution_count": 72
        }
      ]
    },
    {
      "cell_type": "code",
      "metadata": {
        "id": "_mjKWh3OFH_f",
        "colab_type": "code",
        "colab": {
          "base_uri": "https://localhost:8080/",
          "height": 411
        },
        "outputId": "acbba2c6-7f67-46b9-9a22-308727b676e5"
      },
      "source": [
        "df_to_be_scored = pd.read_csv('to_be_scored.csv')\n",
        "df_to_be_scored.tail()"
      ],
      "execution_count": 73,
      "outputs": [
        {
          "output_type": "execute_result",
          "data": {
            "text/html": [
              "<div>\n",
              "<style scoped>\n",
              "    .dataframe tbody tr th:only-of-type {\n",
              "        vertical-align: middle;\n",
              "    }\n",
              "\n",
              "    .dataframe tbody tr th {\n",
              "        vertical-align: top;\n",
              "    }\n",
              "\n",
              "    .dataframe thead th {\n",
              "        text-align: right;\n",
              "    }\n",
              "</style>\n",
              "<table border=\"1\" class=\"dataframe\">\n",
              "  <thead>\n",
              "    <tr style=\"text-align: right;\">\n",
              "      <th></th>\n",
              "      <th>Tempo</th>\n",
              "      <th>Estação</th>\n",
              "      <th>LAT</th>\n",
              "      <th>LONG</th>\n",
              "      <th>Movimentação</th>\n",
              "      <th>Original_473</th>\n",
              "      <th>Original_269</th>\n",
              "      <th>Zero</th>\n",
              "      <th>Maçã-Verde</th>\n",
              "      <th>Tangerina</th>\n",
              "      <th>Citrus</th>\n",
              "      <th>Açaí-Guaraná</th>\n",
              "      <th>Pêssego</th>\n",
              "    </tr>\n",
              "  </thead>\n",
              "  <tbody>\n",
              "    <tr>\n",
              "      <th>979</th>\n",
              "      <td>2019-8-19</td>\n",
              "      <td>Hospital São Paulo</td>\n",
              "      <td>-23.5984</td>\n",
              "      <td>-46.6455</td>\n",
              "      <td>26787</td>\n",
              "      <td>34</td>\n",
              "      <td>65</td>\n",
              "      <td>28</td>\n",
              "      <td>17</td>\n",
              "      <td>33</td>\n",
              "      <td>27</td>\n",
              "      <td>6</td>\n",
              "      <td>2</td>\n",
              "    </tr>\n",
              "    <tr>\n",
              "      <th>980</th>\n",
              "      <td>2019-8-20</td>\n",
              "      <td>Hospital São Paulo</td>\n",
              "      <td>-23.5984</td>\n",
              "      <td>-46.6455</td>\n",
              "      <td>26629</td>\n",
              "      <td>21</td>\n",
              "      <td>60</td>\n",
              "      <td>18</td>\n",
              "      <td>15</td>\n",
              "      <td>27</td>\n",
              "      <td>22</td>\n",
              "      <td>43</td>\n",
              "      <td>43</td>\n",
              "    </tr>\n",
              "    <tr>\n",
              "      <th>981</th>\n",
              "      <td>2019-8-21</td>\n",
              "      <td>Hospital São Paulo</td>\n",
              "      <td>-23.5984</td>\n",
              "      <td>-46.6455</td>\n",
              "      <td>27517</td>\n",
              "      <td>9</td>\n",
              "      <td>56</td>\n",
              "      <td>13</td>\n",
              "      <td>14</td>\n",
              "      <td>21</td>\n",
              "      <td>17</td>\n",
              "      <td>37</td>\n",
              "      <td>37</td>\n",
              "    </tr>\n",
              "    <tr>\n",
              "      <th>982</th>\n",
              "      <td>2019-8-22</td>\n",
              "      <td>Hospital São Paulo</td>\n",
              "      <td>-23.5984</td>\n",
              "      <td>-46.6455</td>\n",
              "      <td>26860</td>\n",
              "      <td>86</td>\n",
              "      <td>49</td>\n",
              "      <td>7</td>\n",
              "      <td>14</td>\n",
              "      <td>17</td>\n",
              "      <td>12</td>\n",
              "      <td>33</td>\n",
              "      <td>33</td>\n",
              "    </tr>\n",
              "    <tr>\n",
              "      <th>983</th>\n",
              "      <td>2019-8-23</td>\n",
              "      <td>Hospital São Paulo</td>\n",
              "      <td>-23.5984</td>\n",
              "      <td>-46.6455</td>\n",
              "      <td>24571</td>\n",
              "      <td>74</td>\n",
              "      <td>41</td>\n",
              "      <td>65</td>\n",
              "      <td>8</td>\n",
              "      <td>14</td>\n",
              "      <td>7</td>\n",
              "      <td>27</td>\n",
              "      <td>27</td>\n",
              "    </tr>\n",
              "  </tbody>\n",
              "</table>\n",
              "</div>"
            ],
            "text/plain": [
              "         Tempo             Estação      LAT  ...  Citrus  Açaí-Guaraná  Pêssego\n",
              "979  2019-8-19  Hospital São Paulo -23.5984  ...      27             6        2\n",
              "980  2019-8-20  Hospital São Paulo -23.5984  ...      22            43       43\n",
              "981  2019-8-21  Hospital São Paulo -23.5984  ...      17            37       37\n",
              "982  2019-8-22  Hospital São Paulo -23.5984  ...      12            33       33\n",
              "983  2019-8-23  Hospital São Paulo -23.5984  ...       7            27       27\n",
              "\n",
              "[5 rows x 13 columns]"
            ]
          },
          "metadata": {
            "tags": []
          },
          "execution_count": 73
        }
      ]
    },
    {
      "cell_type": "markdown",
      "metadata": {
        "id": "DYhR4jczFH_j",
        "colab_type": "text"
      },
      "source": [
        "# Atenção!\n",
        "\n",
        "O dataframe ``to_be_scored`` é a sua \"folha de respostas\". Note que a coluna \"TARGET\" não existe nessa amostra, que não pode ser então utilizada para treino de modelos de aprendizado supervisionado."
      ]
    },
    {
      "cell_type": "code",
      "metadata": {
        "scrolled": true,
        "id": "w5X7FOuvFH_k",
        "colab_type": "code",
        "colab": {}
      },
      "source": [
        "df_to_be_scored.info()"
      ],
      "execution_count": null,
      "outputs": []
    },
    {
      "cell_type": "markdown",
      "metadata": {
        "id": "CXAMLki_FH_p",
        "colab_type": "text"
      },
      "source": [
        "<hr>\n",
        "\n",
        "# Atenção!\n",
        "\n",
        "# Para poder aplicar seu modelo e classificar a folha de respostas, você precisa primeiro aplicar as mesmas transformações com colunas que você aplicou no dataset de treino.\n",
        "\n",
        "# Não remova ou adicione linhas na folha de respostas. \n",
        "\n",
        "# Não altere a ordem das linhas na folha de respostas.\n",
        "\n",
        "# Ao final, as 1000 entradas devem estar classificadas, com os valores previstos em uma coluna chamada \"target\"\n",
        "\n",
        "<hr>"
      ]
    },
    {
      "cell_type": "markdown",
      "metadata": {
        "id": "CTn0AM8EFH_q",
        "colab_type": "text"
      },
      "source": [
        "Na célula abaixo, repetimos rapidamente os mesmos passos de pré-processamento usados no exemplo dado com árvore de decisão"
      ]
    },
    {
      "cell_type": "code",
      "metadata": {
        "id": "NyYo5t4qFH_r",
        "colab_type": "code",
        "colab": {}
      },
      "source": [
        "# 1 - Removendo linhas com valores NaN\n",
        "df_to_be_scored_1 = df_to_be_scored.dropna(axis='index', how='any', subset=['Tempo', 'Estação', 'LAT', 'LONG', 'Movimentação', 'Original_473', 'Original_269', 'Zero', 'Maçã-Verde', 'Tangerina', 'Citrus', 'Açaí-Guaraná', 'Pêssego'])\n",
        "\n",
        "# 2 - Inputando zeros nos valores faltantes\n",
        "impute_zeros.fit(X=df_to_be_scored_1)\n",
        "df_to_be_scored_2 = pd.DataFrame.from_records(\n",
        "    data=impute_zeros.transform(\n",
        "        X=df_to_be_scored_1\n",
        "    ),\n",
        "    columns=df_to_be_scored_1.columns\n",
        ")\n",
        "\n",
        "# 3 - Remoção de colunas\n",
        "df_to_be_scored_3 = df_to_be_scored_2.drop(columns=['Tempo', 'Estação', 'LAT', 'LONG', 'Movimentação'], inplace=False)\n",
        "\n",
        "# 4 - Encoding com \"dummy variables\" (se necessário)\n",
        "# df_to_be_scored_4 = pd.get_dummies(df_to_be_scored_3, columns=['Váriavel com dummy'])\n",
        "df_to_be_scored_4 = df_to_be_scored_3\n",
        "\n",
        "df_to_be_scored_4.tail()"
      ],
      "execution_count": null,
      "outputs": []
    },
    {
      "cell_type": "markdown",
      "metadata": {
        "id": "QLqqc8vvFH_w",
        "colab_type": "text"
      },
      "source": [
        "<hr>\n",
        "\n",
        "Pode ser verificado abaixo que as colunas da folha de resposta agora são idênticas às que foram usadas para treinar o modelo:"
      ]
    },
    {
      "cell_type": "code",
      "metadata": {
        "id": "t0h1BG0XFH_x",
        "colab_type": "code",
        "colab": {}
      },
      "source": [
        "df_training[\n",
        "    [\n",
        "        'Original_473', 'Original_269', 'Zero', 'Maçã-Verde', 'Tangerina',\n",
        "       'Citrus', 'Açaí-Guaraná', 'Pêssego'\n",
        "    ]\n",
        "].columns"
      ],
      "execution_count": null,
      "outputs": []
    },
    {
      "cell_type": "code",
      "metadata": {
        "id": "xJZeMQbKFH_0",
        "colab_type": "code",
        "colab": {}
      },
      "source": [
        "df_to_be_scored_4.columns"
      ],
      "execution_count": null,
      "outputs": []
    },
    {
      "cell_type": "markdown",
      "metadata": {
        "id": "VQHVEMacFH_5",
        "colab_type": "text"
      },
      "source": [
        "# Atenção\n",
        "\n",
        "Para todas colunas que não existirem no \"df_to_be_scored\", você pode usar a técnica abaixo para adicioná-las:"
      ]
    },
    {
      "cell_type": "code",
      "metadata": {
        "scrolled": false,
        "id": "3VjnW1cQFH_6",
        "colab_type": "code",
        "colab": {}
      },
      "source": [
        "y_pred = dtc.predict(df_to_be_scored_4)\n",
        "df_to_be_scored_4['TARGET'] = y_pred\n",
        "df_to_be_scored_4.tail()"
      ],
      "execution_count": null,
      "outputs": []
    },
    {
      "cell_type": "markdown",
      "metadata": {
        "id": "2cT9H24lFH__",
        "colab_type": "text"
      },
      "source": [
        "### Salvando a folha de respostas como um arquivo .csv para ser submetido"
      ]
    },
    {
      "cell_type": "code",
      "metadata": {
        "id": "ErEGec7_FH__",
        "colab_type": "code",
        "colab": {}
      },
      "source": [
        "project.save_data(file_name=\"results.csv\", data=df_to_be_scored_4.to_csv(index=False))"
      ],
      "execution_count": null,
      "outputs": []
    },
    {
      "cell_type": "markdown",
      "metadata": {
        "id": "ZnHp2aC1FIAH",
        "colab_type": "text"
      },
      "source": [
        "# Atenção\n",
        "\n",
        "# A execução da célula acima irá criar um novo \"data asset\" no seu projeto no Watson Studio. Você precisará realizar o download deste arquivo juntamente com este notebook e criar um arquivo zip com os arquivos **results.csv** e **notebook.ipynb** para submissão. (os arquivos devem estar nomeados desta forma)"
      ]
    },
    {
      "cell_type": "markdown",
      "metadata": {
        "id": "ZPQ0FOn3FIAI",
        "colab_type": "text"
      },
      "source": [
        "<hr>\n",
        "\n",
        "## Parabéns!\n",
        "\n",
        "Se você já está satisfeito com a sua solução, vá até a página abaixo e envie os arquivos necessários para submissão.\n",
        "\n",
        "# https://tnt.maratona.dev\n"
      ]
    },
    {
      "cell_type": "code",
      "metadata": {
        "id": "Pa_TH1MmFIAJ",
        "colab_type": "code",
        "colab": {}
      },
      "source": [
        ""
      ],
      "execution_count": null,
      "outputs": []
    }
  ]
}